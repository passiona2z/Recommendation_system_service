{
 "cells": [
  {
   "cell_type": "code",
   "execution_count": 2,
   "metadata": {},
   "outputs": [
    {
     "name": "stderr",
     "output_type": "stream",
     "text": [
      "/Users/passiona2z/Desktop/fullstack/project_env/lib/python3.10/site-packages/tqdm/auto.py:21: TqdmWarning: IProgress not found. Please update jupyter and ipywidgets. See https://ipywidgets.readthedocs.io/en/stable/user_install.html\n",
      "  from .autonotebook import tqdm as notebook_tqdm\n"
     ]
    }
   ],
   "source": [
    "import pandas as pd\n",
    "import numpy as np\n",
    "from scipy.sparse import coo_matrix\n",
    "from implicit.als import AlternatingLeastSquares\n",
    "import pickle"
   ]
  },
  {
   "cell_type": "code",
   "execution_count": 3,
   "metadata": {},
   "outputs": [],
   "source": [
    "saved_model_fname = \"model/finalized_model.sav\"\n",
    "data_fname = \"data/ratings.csv\"\n",
    "item_fname = \"data/movies_final.csv\"\n",
    "weight = 10"
   ]
  },
  {
   "cell_type": "code",
   "execution_count": 5,
   "metadata": {},
   "outputs": [],
   "source": [
    "ratings_df = pd.read_csv(data_fname)"
   ]
  },
  {
   "cell_type": "code",
   "execution_count": 6,
   "metadata": {},
   "outputs": [],
   "source": [
    "a = ratings_df[\"userId\"].astype(\"category\")"
   ]
  },
  {
   "cell_type": "code",
   "execution_count": 7,
   "metadata": {},
   "outputs": [
    {
     "data": {
      "text/plain": [
       "0            0\n",
       "1            2\n",
       "2            5\n",
       "3           43\n",
       "4           46\n",
       "          ... \n",
       "100831    9416\n",
       "100832    9443\n",
       "100833    9444\n",
       "100834    9445\n",
       "100835    9485\n",
       "Length: 100836, dtype: int16"
      ]
     },
     "execution_count": 7,
     "metadata": {},
     "output_type": "execute_result"
    }
   ],
   "source": [
    "ratings_df[\"movieId\"].astype(\"category\").cat.codes"
   ]
  },
  {
   "cell_type": "code",
   "execution_count": 29,
   "metadata": {},
   "outputs": [
    {
     "data": {
      "text/plain": [
       "0           0\n",
       "1           0\n",
       "2           0\n",
       "3           0\n",
       "4           0\n",
       "         ... \n",
       "100831    609\n",
       "100832    609\n",
       "100833    609\n",
       "100834    609\n",
       "100835    609\n",
       "Length: 100836, dtype: int16"
      ]
     },
     "execution_count": 29,
     "metadata": {},
     "output_type": "execute_result"
    }
   ],
   "source": [
    "a.cat.codes"
   ]
  },
  {
   "cell_type": "code",
   "execution_count": 16,
   "metadata": {},
   "outputs": [
    {
     "data": {
      "text/plain": [
       "0           0\n",
       "1           0\n",
       "2           0\n",
       "3           0\n",
       "4           0\n",
       "         ... \n",
       "100831    609\n",
       "100832    609\n",
       "100833    609\n",
       "100834    609\n",
       "100835    609\n",
       "Length: 100836, dtype: int64"
      ]
     },
     "execution_count": 16,
     "metadata": {},
     "output_type": "execute_result"
    }
   ],
   "source": [
    "ratings_df.groupby('userId').ngroup()"
   ]
  },
  {
   "cell_type": "code",
   "execution_count": 95,
   "metadata": {},
   "outputs": [
    {
     "data": {
      "text/plain": [
       "0           0\n",
       "1           0\n",
       "2           0\n",
       "3           0\n",
       "4           0\n",
       "         ... \n",
       "100831    609\n",
       "100832    609\n",
       "100833    609\n",
       "100834    609\n",
       "100835    609\n",
       "Length: 100836, dtype: int64"
      ]
     },
     "execution_count": 95,
     "metadata": {},
     "output_type": "execute_result"
    }
   ],
   "source": [
    "ratings_df.groupby('userId').ngroup()"
   ]
  },
  {
   "cell_type": "code",
   "execution_count": 130,
   "metadata": {},
   "outputs": [
    {
     "data": {
      "text/plain": [
       "True"
      ]
     },
     "execution_count": 130,
     "metadata": {},
     "output_type": "execute_result"
    }
   ],
   "source": [
    "1 in ratings_df.groupby('movieId').ngroup().unique().tolist()"
   ]
  },
  {
   "cell_type": "code",
   "execution_count": 137,
   "metadata": {},
   "outputs": [
    {
     "data": {
      "text/html": [
       "<div>\n",
       "<style scoped>\n",
       "    .dataframe tbody tr th:only-of-type {\n",
       "        vertical-align: middle;\n",
       "    }\n",
       "\n",
       "    .dataframe tbody tr th {\n",
       "        vertical-align: top;\n",
       "    }\n",
       "\n",
       "    .dataframe thead th {\n",
       "        text-align: right;\n",
       "    }\n",
       "</style>\n",
       "<table border=\"1\" class=\"dataframe\">\n",
       "  <thead>\n",
       "    <tr style=\"text-align: right;\">\n",
       "      <th></th>\n",
       "      <th>userId</th>\n",
       "      <th>movieId</th>\n",
       "      <th>rating</th>\n",
       "      <th>timestamp</th>\n",
       "    </tr>\n",
       "  </thead>\n",
       "  <tbody>\n",
       "    <tr>\n",
       "      <th>273</th>\n",
       "      <td>3</td>\n",
       "      <td>1302</td>\n",
       "      <td>0.5</td>\n",
       "      <td>1306464189</td>\n",
       "    </tr>\n",
       "    <tr>\n",
       "      <th>4920</th>\n",
       "      <td>31</td>\n",
       "      <td>1302</td>\n",
       "      <td>4.0</td>\n",
       "      <td>850467485</td>\n",
       "    </tr>\n",
       "    <tr>\n",
       "      <th>6022</th>\n",
       "      <td>42</td>\n",
       "      <td>1302</td>\n",
       "      <td>4.0</td>\n",
       "      <td>996258272</td>\n",
       "    </tr>\n",
       "    <tr>\n",
       "      <th>6605</th>\n",
       "      <td>45</td>\n",
       "      <td>1302</td>\n",
       "      <td>5.0</td>\n",
       "      <td>1091305660</td>\n",
       "    </tr>\n",
       "    <tr>\n",
       "      <th>7509</th>\n",
       "      <td>51</td>\n",
       "      <td>1302</td>\n",
       "      <td>5.0</td>\n",
       "      <td>1230929661</td>\n",
       "    </tr>\n",
       "    <tr>\n",
       "      <th>9572</th>\n",
       "      <td>64</td>\n",
       "      <td>1302</td>\n",
       "      <td>4.0</td>\n",
       "      <td>1161529469</td>\n",
       "    </tr>\n",
       "    <tr>\n",
       "      <th>10092</th>\n",
       "      <td>66</td>\n",
       "      <td>1302</td>\n",
       "      <td>4.5</td>\n",
       "      <td>1113188364</td>\n",
       "    </tr>\n",
       "    <tr>\n",
       "      <th>10578</th>\n",
       "      <td>68</td>\n",
       "      <td>1302</td>\n",
       "      <td>3.0</td>\n",
       "      <td>1230498000</td>\n",
       "    </tr>\n",
       "    <tr>\n",
       "      <th>11692</th>\n",
       "      <td>70</td>\n",
       "      <td>1302</td>\n",
       "      <td>5.0</td>\n",
       "      <td>1355198101</td>\n",
       "    </tr>\n",
       "    <tr>\n",
       "      <th>12549</th>\n",
       "      <td>80</td>\n",
       "      <td>1302</td>\n",
       "      <td>4.0</td>\n",
       "      <td>1377306348</td>\n",
       "    </tr>\n",
       "    <tr>\n",
       "      <th>13347</th>\n",
       "      <td>84</td>\n",
       "      <td>1302</td>\n",
       "      <td>4.0</td>\n",
       "      <td>860397306</td>\n",
       "    </tr>\n",
       "    <tr>\n",
       "      <th>19632</th>\n",
       "      <td>127</td>\n",
       "      <td>1302</td>\n",
       "      <td>2.0</td>\n",
       "      <td>1263527044</td>\n",
       "    </tr>\n",
       "    <tr>\n",
       "      <th>21236</th>\n",
       "      <td>140</td>\n",
       "      <td>1302</td>\n",
       "      <td>4.5</td>\n",
       "      <td>1067987072</td>\n",
       "    </tr>\n",
       "    <tr>\n",
       "      <th>22649</th>\n",
       "      <td>155</td>\n",
       "      <td>1302</td>\n",
       "      <td>3.0</td>\n",
       "      <td>961860789</td>\n",
       "    </tr>\n",
       "    <tr>\n",
       "      <th>24271</th>\n",
       "      <td>168</td>\n",
       "      <td>1302</td>\n",
       "      <td>4.0</td>\n",
       "      <td>1306793396</td>\n",
       "    </tr>\n",
       "    <tr>\n",
       "      <th>24394</th>\n",
       "      <td>169</td>\n",
       "      <td>1302</td>\n",
       "      <td>4.5</td>\n",
       "      <td>1078285055</td>\n",
       "    </tr>\n",
       "    <tr>\n",
       "      <th>25076</th>\n",
       "      <td>177</td>\n",
       "      <td>1302</td>\n",
       "      <td>3.0</td>\n",
       "      <td>1435890803</td>\n",
       "    </tr>\n",
       "    <tr>\n",
       "      <th>26311</th>\n",
       "      <td>182</td>\n",
       "      <td>1302</td>\n",
       "      <td>4.0</td>\n",
       "      <td>1055157091</td>\n",
       "    </tr>\n",
       "    <tr>\n",
       "      <th>28143</th>\n",
       "      <td>195</td>\n",
       "      <td>1302</td>\n",
       "      <td>5.0</td>\n",
       "      <td>974708152</td>\n",
       "    </tr>\n",
       "    <tr>\n",
       "      <th>28998</th>\n",
       "      <td>200</td>\n",
       "      <td>1302</td>\n",
       "      <td>3.0</td>\n",
       "      <td>1229876491</td>\n",
       "    </tr>\n",
       "    <tr>\n",
       "      <th>29543</th>\n",
       "      <td>202</td>\n",
       "      <td>1302</td>\n",
       "      <td>5.0</td>\n",
       "      <td>975015323</td>\n",
       "    </tr>\n",
       "    <tr>\n",
       "      <th>33182</th>\n",
       "      <td>226</td>\n",
       "      <td>1302</td>\n",
       "      <td>3.0</td>\n",
       "      <td>1095662271</td>\n",
       "    </tr>\n",
       "    <tr>\n",
       "      <th>33964</th>\n",
       "      <td>232</td>\n",
       "      <td>1302</td>\n",
       "      <td>3.5</td>\n",
       "      <td>1135922591</td>\n",
       "    </tr>\n",
       "    <tr>\n",
       "      <th>35903</th>\n",
       "      <td>244</td>\n",
       "      <td>1302</td>\n",
       "      <td>3.0</td>\n",
       "      <td>975075211</td>\n",
       "    </tr>\n",
       "    <tr>\n",
       "      <th>38563</th>\n",
       "      <td>265</td>\n",
       "      <td>1302</td>\n",
       "      <td>2.0</td>\n",
       "      <td>965316339</td>\n",
       "    </tr>\n",
       "    <tr>\n",
       "      <th>38867</th>\n",
       "      <td>267</td>\n",
       "      <td>1302</td>\n",
       "      <td>3.0</td>\n",
       "      <td>959806612</td>\n",
       "    </tr>\n",
       "    <tr>\n",
       "      <th>42340</th>\n",
       "      <td>288</td>\n",
       "      <td>1302</td>\n",
       "      <td>3.0</td>\n",
       "      <td>979163904</td>\n",
       "    </tr>\n",
       "    <tr>\n",
       "      <th>43566</th>\n",
       "      <td>292</td>\n",
       "      <td>1302</td>\n",
       "      <td>3.0</td>\n",
       "      <td>1265679763</td>\n",
       "    </tr>\n",
       "    <tr>\n",
       "      <th>45853</th>\n",
       "      <td>304</td>\n",
       "      <td>1302</td>\n",
       "      <td>4.0</td>\n",
       "      <td>920884238</td>\n",
       "    </tr>\n",
       "    <tr>\n",
       "      <th>47863</th>\n",
       "      <td>309</td>\n",
       "      <td>1302</td>\n",
       "      <td>2.5</td>\n",
       "      <td>1086563293</td>\n",
       "    </tr>\n",
       "    <tr>\n",
       "      <th>50749</th>\n",
       "      <td>328</td>\n",
       "      <td>1302</td>\n",
       "      <td>0.5</td>\n",
       "      <td>1494212149</td>\n",
       "    </tr>\n",
       "    <tr>\n",
       "      <th>55258</th>\n",
       "      <td>367</td>\n",
       "      <td>1302</td>\n",
       "      <td>5.0</td>\n",
       "      <td>997812914</td>\n",
       "    </tr>\n",
       "    <tr>\n",
       "      <th>56320</th>\n",
       "      <td>372</td>\n",
       "      <td>1302</td>\n",
       "      <td>3.0</td>\n",
       "      <td>874415328</td>\n",
       "    </tr>\n",
       "    <tr>\n",
       "      <th>59465</th>\n",
       "      <td>387</td>\n",
       "      <td>1302</td>\n",
       "      <td>2.0</td>\n",
       "      <td>1095040729</td>\n",
       "    </tr>\n",
       "    <tr>\n",
       "      <th>62784</th>\n",
       "      <td>414</td>\n",
       "      <td>1302</td>\n",
       "      <td>4.0</td>\n",
       "      <td>961517395</td>\n",
       "    </tr>\n",
       "    <tr>\n",
       "      <th>67578</th>\n",
       "      <td>437</td>\n",
       "      <td>1302</td>\n",
       "      <td>3.0</td>\n",
       "      <td>859721584</td>\n",
       "    </tr>\n",
       "    <tr>\n",
       "      <th>67692</th>\n",
       "      <td>438</td>\n",
       "      <td>1302</td>\n",
       "      <td>4.0</td>\n",
       "      <td>1105649777</td>\n",
       "    </tr>\n",
       "    <tr>\n",
       "      <th>68857</th>\n",
       "      <td>448</td>\n",
       "      <td>1302</td>\n",
       "      <td>3.0</td>\n",
       "      <td>1019137559</td>\n",
       "    </tr>\n",
       "    <tr>\n",
       "      <th>73484</th>\n",
       "      <td>474</td>\n",
       "      <td>1302</td>\n",
       "      <td>3.5</td>\n",
       "      <td>1053021069</td>\n",
       "    </tr>\n",
       "    <tr>\n",
       "      <th>75564</th>\n",
       "      <td>477</td>\n",
       "      <td>1302</td>\n",
       "      <td>4.0</td>\n",
       "      <td>1200945183</td>\n",
       "    </tr>\n",
       "    <tr>\n",
       "      <th>76092</th>\n",
       "      <td>479</td>\n",
       "      <td>1302</td>\n",
       "      <td>4.0</td>\n",
       "      <td>1039392576</td>\n",
       "    </tr>\n",
       "    <tr>\n",
       "      <th>76403</th>\n",
       "      <td>480</td>\n",
       "      <td>1302</td>\n",
       "      <td>4.0</td>\n",
       "      <td>1179161751</td>\n",
       "    </tr>\n",
       "    <tr>\n",
       "      <th>80179</th>\n",
       "      <td>504</td>\n",
       "      <td>1302</td>\n",
       "      <td>3.0</td>\n",
       "      <td>1063644532</td>\n",
       "    </tr>\n",
       "    <tr>\n",
       "      <th>81152</th>\n",
       "      <td>514</td>\n",
       "      <td>1302</td>\n",
       "      <td>5.0</td>\n",
       "      <td>1533872331</td>\n",
       "    </tr>\n",
       "    <tr>\n",
       "      <th>81640</th>\n",
       "      <td>517</td>\n",
       "      <td>1302</td>\n",
       "      <td>0.5</td>\n",
       "      <td>1492339379</td>\n",
       "    </tr>\n",
       "    <tr>\n",
       "      <th>82251</th>\n",
       "      <td>522</td>\n",
       "      <td>1302</td>\n",
       "      <td>3.5</td>\n",
       "      <td>1388124733</td>\n",
       "    </tr>\n",
       "    <tr>\n",
       "      <th>82604</th>\n",
       "      <td>524</td>\n",
       "      <td>1302</td>\n",
       "      <td>3.0</td>\n",
       "      <td>851609643</td>\n",
       "    </tr>\n",
       "    <tr>\n",
       "      <th>86673</th>\n",
       "      <td>561</td>\n",
       "      <td>1302</td>\n",
       "      <td>4.0</td>\n",
       "      <td>1491092243</td>\n",
       "    </tr>\n",
       "    <tr>\n",
       "      <th>87130</th>\n",
       "      <td>562</td>\n",
       "      <td>1302</td>\n",
       "      <td>4.5</td>\n",
       "      <td>1368897582</td>\n",
       "    </tr>\n",
       "    <tr>\n",
       "      <th>90320</th>\n",
       "      <td>587</td>\n",
       "      <td>1302</td>\n",
       "      <td>5.0</td>\n",
       "      <td>953142030</td>\n",
       "    </tr>\n",
       "    <tr>\n",
       "      <th>90709</th>\n",
       "      <td>590</td>\n",
       "      <td>1302</td>\n",
       "      <td>4.0</td>\n",
       "      <td>1258421494</td>\n",
       "    </tr>\n",
       "    <tr>\n",
       "      <th>91796</th>\n",
       "      <td>596</td>\n",
       "      <td>1302</td>\n",
       "      <td>3.5</td>\n",
       "      <td>1535827415</td>\n",
       "    </tr>\n",
       "    <tr>\n",
       "      <th>92338</th>\n",
       "      <td>597</td>\n",
       "      <td>1302</td>\n",
       "      <td>5.0</td>\n",
       "      <td>941639635</td>\n",
       "    </tr>\n",
       "    <tr>\n",
       "      <th>93082</th>\n",
       "      <td>599</td>\n",
       "      <td>1302</td>\n",
       "      <td>3.0</td>\n",
       "      <td>1498523111</td>\n",
       "    </tr>\n",
       "    <tr>\n",
       "      <th>95315</th>\n",
       "      <td>600</td>\n",
       "      <td>1302</td>\n",
       "      <td>2.0</td>\n",
       "      <td>1237764437</td>\n",
       "    </tr>\n",
       "    <tr>\n",
       "      <th>98887</th>\n",
       "      <td>608</td>\n",
       "      <td>1302</td>\n",
       "      <td>3.0</td>\n",
       "      <td>1117491638</td>\n",
       "    </tr>\n",
       "  </tbody>\n",
       "</table>\n",
       "</div>"
      ],
      "text/plain": [
       "      userId movieId  rating   timestamp\n",
       "273        3    1302     0.5  1306464189\n",
       "4920      31    1302     4.0   850467485\n",
       "6022      42    1302     4.0   996258272\n",
       "6605      45    1302     5.0  1091305660\n",
       "7509      51    1302     5.0  1230929661\n",
       "9572      64    1302     4.0  1161529469\n",
       "10092     66    1302     4.5  1113188364\n",
       "10578     68    1302     3.0  1230498000\n",
       "11692     70    1302     5.0  1355198101\n",
       "12549     80    1302     4.0  1377306348\n",
       "13347     84    1302     4.0   860397306\n",
       "19632    127    1302     2.0  1263527044\n",
       "21236    140    1302     4.5  1067987072\n",
       "22649    155    1302     3.0   961860789\n",
       "24271    168    1302     4.0  1306793396\n",
       "24394    169    1302     4.5  1078285055\n",
       "25076    177    1302     3.0  1435890803\n",
       "26311    182    1302     4.0  1055157091\n",
       "28143    195    1302     5.0   974708152\n",
       "28998    200    1302     3.0  1229876491\n",
       "29543    202    1302     5.0   975015323\n",
       "33182    226    1302     3.0  1095662271\n",
       "33964    232    1302     3.5  1135922591\n",
       "35903    244    1302     3.0   975075211\n",
       "38563    265    1302     2.0   965316339\n",
       "38867    267    1302     3.0   959806612\n",
       "42340    288    1302     3.0   979163904\n",
       "43566    292    1302     3.0  1265679763\n",
       "45853    304    1302     4.0   920884238\n",
       "47863    309    1302     2.5  1086563293\n",
       "50749    328    1302     0.5  1494212149\n",
       "55258    367    1302     5.0   997812914\n",
       "56320    372    1302     3.0   874415328\n",
       "59465    387    1302     2.0  1095040729\n",
       "62784    414    1302     4.0   961517395\n",
       "67578    437    1302     3.0   859721584\n",
       "67692    438    1302     4.0  1105649777\n",
       "68857    448    1302     3.0  1019137559\n",
       "73484    474    1302     3.5  1053021069\n",
       "75564    477    1302     4.0  1200945183\n",
       "76092    479    1302     4.0  1039392576\n",
       "76403    480    1302     4.0  1179161751\n",
       "80179    504    1302     3.0  1063644532\n",
       "81152    514    1302     5.0  1533872331\n",
       "81640    517    1302     0.5  1492339379\n",
       "82251    522    1302     3.5  1388124733\n",
       "82604    524    1302     3.0   851609643\n",
       "86673    561    1302     4.0  1491092243\n",
       "87130    562    1302     4.5  1368897582\n",
       "90320    587    1302     5.0   953142030\n",
       "90709    590    1302     4.0  1258421494\n",
       "91796    596    1302     3.5  1535827415\n",
       "92338    597    1302     5.0   941639635\n",
       "93082    599    1302     3.0  1498523111\n",
       "95315    600    1302     2.0  1237764437\n",
       "98887    608    1302     3.0  1117491638"
      ]
     },
     "execution_count": 137,
     "metadata": {},
     "output_type": "execute_result"
    }
   ],
   "source": [
    "ratings_df[ratings_df.groupby('movieId').ngroup() == 999]"
   ]
  },
  {
   "cell_type": "code",
   "execution_count": 96,
   "metadata": {},
   "outputs": [
    {
     "data": {
      "text/html": [
       "<div>\n",
       "<style scoped>\n",
       "    .dataframe tbody tr th:only-of-type {\n",
       "        vertical-align: middle;\n",
       "    }\n",
       "\n",
       "    .dataframe tbody tr th {\n",
       "        vertical-align: top;\n",
       "    }\n",
       "\n",
       "    .dataframe thead th {\n",
       "        text-align: right;\n",
       "    }\n",
       "</style>\n",
       "<table border=\"1\" class=\"dataframe\">\n",
       "  <thead>\n",
       "    <tr style=\"text-align: right;\">\n",
       "      <th></th>\n",
       "      <th>userId</th>\n",
       "      <th>movieId</th>\n",
       "      <th>rating</th>\n",
       "      <th>timestamp</th>\n",
       "    </tr>\n",
       "  </thead>\n",
       "  <tbody>\n",
       "    <tr>\n",
       "      <th>0</th>\n",
       "      <td>1</td>\n",
       "      <td>1</td>\n",
       "      <td>4.0</td>\n",
       "      <td>964982703</td>\n",
       "    </tr>\n",
       "    <tr>\n",
       "      <th>1</th>\n",
       "      <td>1</td>\n",
       "      <td>3</td>\n",
       "      <td>4.0</td>\n",
       "      <td>964981247</td>\n",
       "    </tr>\n",
       "    <tr>\n",
       "      <th>2</th>\n",
       "      <td>1</td>\n",
       "      <td>6</td>\n",
       "      <td>4.0</td>\n",
       "      <td>964982224</td>\n",
       "    </tr>\n",
       "    <tr>\n",
       "      <th>3</th>\n",
       "      <td>1</td>\n",
       "      <td>47</td>\n",
       "      <td>5.0</td>\n",
       "      <td>964983815</td>\n",
       "    </tr>\n",
       "    <tr>\n",
       "      <th>4</th>\n",
       "      <td>1</td>\n",
       "      <td>50</td>\n",
       "      <td>5.0</td>\n",
       "      <td>964982931</td>\n",
       "    </tr>\n",
       "    <tr>\n",
       "      <th>...</th>\n",
       "      <td>...</td>\n",
       "      <td>...</td>\n",
       "      <td>...</td>\n",
       "      <td>...</td>\n",
       "    </tr>\n",
       "    <tr>\n",
       "      <th>100831</th>\n",
       "      <td>610</td>\n",
       "      <td>166534</td>\n",
       "      <td>4.0</td>\n",
       "      <td>1493848402</td>\n",
       "    </tr>\n",
       "    <tr>\n",
       "      <th>100832</th>\n",
       "      <td>610</td>\n",
       "      <td>168248</td>\n",
       "      <td>5.0</td>\n",
       "      <td>1493850091</td>\n",
       "    </tr>\n",
       "    <tr>\n",
       "      <th>100833</th>\n",
       "      <td>610</td>\n",
       "      <td>168250</td>\n",
       "      <td>5.0</td>\n",
       "      <td>1494273047</td>\n",
       "    </tr>\n",
       "    <tr>\n",
       "      <th>100834</th>\n",
       "      <td>610</td>\n",
       "      <td>168252</td>\n",
       "      <td>5.0</td>\n",
       "      <td>1493846352</td>\n",
       "    </tr>\n",
       "    <tr>\n",
       "      <th>100835</th>\n",
       "      <td>610</td>\n",
       "      <td>170875</td>\n",
       "      <td>3.0</td>\n",
       "      <td>1493846415</td>\n",
       "    </tr>\n",
       "  </tbody>\n",
       "</table>\n",
       "<p>100836 rows × 4 columns</p>\n",
       "</div>"
      ],
      "text/plain": [
       "       userId movieId  rating   timestamp\n",
       "0           1       1     4.0   964982703\n",
       "1           1       3     4.0   964981247\n",
       "2           1       6     4.0   964982224\n",
       "3           1      47     5.0   964983815\n",
       "4           1      50     5.0   964982931\n",
       "...       ...     ...     ...         ...\n",
       "100831    610  166534     4.0  1493848402\n",
       "100832    610  168248     5.0  1493850091\n",
       "100833    610  168250     5.0  1494273047\n",
       "100834    610  168252     5.0  1493846352\n",
       "100835    610  170875     3.0  1493846415\n",
       "\n",
       "[100836 rows x 4 columns]"
      ]
     },
     "execution_count": 96,
     "metadata": {},
     "output_type": "execute_result"
    }
   ],
   "source": [
    "ratings_df"
   ]
  },
  {
   "cell_type": "code",
   "execution_count": 10,
   "metadata": {},
   "outputs": [
    {
     "data": {
      "text/plain": [
       "<pandas.core.arrays.categorical.CategoricalAccessor object at 0x1056ebb20>"
      ]
     },
     "execution_count": 10,
     "metadata": {},
     "output_type": "execute_result"
    }
   ],
   "source": [
    "a.cat"
   ]
  },
  {
   "cell_type": "code",
   "execution_count": 19,
   "metadata": {},
   "outputs": [],
   "source": [
    "\n",
    "ratings_df = pd.read_csv(data_fname)\n",
    "ratings_df[\"userId\"] = ratings_df[\"userId\"].astype(\"category\")  # dtype : category\n",
    "ratings_df[\"movieId\"] = ratings_df[\"movieId\"].astype(\"category\")\n",
    "\n",
    "# create a sparse matrix of all the users/repos\n",
    "rating_matrix = coo_matrix((ratings_df[\"rating\"].astype(np.float32),\n",
    "        (\n",
    "            ratings_df[\"movieId\"].cat.codes.copy(),   # 이거 수행할려고 카테고리화\n",
    "            ratings_df[\"userId\"].cat.codes.copy(),\n",
    "        ),\n",
    "    )\n",
    ")\n"
   ]
  },
  {
   "cell_type": "code",
   "execution_count": 20,
   "metadata": {},
   "outputs": [
    {
     "data": {
      "text/plain": [
       "<9724x610 sparse matrix of type '<class 'numpy.float32'>'\n",
       "\twith 100836 stored elements in COOrdinate format>"
      ]
     },
     "execution_count": 20,
     "metadata": {},
     "output_type": "execute_result"
    }
   ],
   "source": [
    "rating_matrix"
   ]
  },
  {
   "cell_type": "code",
   "execution_count": 21,
   "metadata": {},
   "outputs": [
    {
     "name": "stderr",
     "output_type": "stream",
     "text": [
      "/Users/passiona2z/Desktop/fullstack/project_env/lib/python3.10/site-packages/implicit/utils.py:138: ParameterWarning: Method expects CSR input, and was passed coo_matrix instead. Converting to CSR took 0.0019021034240722656 seconds\n",
      "  warnings.warn(\n",
      "100%|██████████| 50/50 [00:36<00:00,  1.38it/s]\n"
     ]
    }
   ],
   "source": [
    "als_model = AlternatingLeastSquares(\n",
    "    factors=50, regularization=0.01, dtype=np.float64, iterations=50\n",
    ")\n",
    "\n",
    "als_model.fit(weight * rating_matrix)"
   ]
  },
  {
   "cell_type": "code",
   "execution_count": 22,
   "metadata": {},
   "outputs": [
    {
     "data": {
      "text/plain": [
       "<implicit.cpu.als.AlternatingLeastSquares at 0x127f69420>"
      ]
     },
     "execution_count": 22,
     "metadata": {},
     "output_type": "execute_result"
    }
   ],
   "source": [
    "als_model"
   ]
  },
  {
   "cell_type": "code",
   "execution_count": 199,
   "metadata": {},
   "outputs": [
    {
     "data": {
      "text/plain": [
       "(array([  0, 114, 265,  95,  38, 451, 492, 233,  26, 531], dtype=int32),\n",
       " array([1.        , 0.5225028 , 0.49628669, 0.49200082, 0.47754395,\n",
       "        0.46692424, 0.45454716, 0.44459878, 0.44172463, 0.43412594]))"
      ]
     },
     "execution_count": 199,
     "metadata": {},
     "output_type": "execute_result"
    }
   ],
   "source": [
    "als_model.similar_items(itemid=0)"
   ]
  },
  {
   "cell_type": "code",
   "execution_count": 65,
   "metadata": {},
   "outputs": [
    {
     "data": {
      "text/plain": [
       "tuple"
      ]
     },
     "execution_count": 65,
     "metadata": {},
     "output_type": "execute_result"
    }
   ],
   "source": [
    "type(recs)"
   ]
  },
  {
   "cell_type": "code",
   "execution_count": 67,
   "metadata": {},
   "outputs": [],
   "source": [
    "for a,b in [(1,2), (3,4) ]:\n",
    "    pass"
   ]
  },
  {
   "cell_type": "code",
   "execution_count": 179,
   "metadata": {},
   "outputs": [],
   "source": [
    "def calculate_item_based(model_item_id, items, n=11):\n",
    "\n",
    "    \n",
    "    recs = als_model.similar_items(itemid=int(model_item_id), N = n)\n",
    "                                      \n",
    "    return [str(items[model_ids]) for model_ids in recs[0]]"
   ]
  },
  {
   "cell_type": "code",
   "execution_count": null,
   "metadata": {},
   "outputs": [],
   "source": []
  },
  {
   "cell_type": "code",
   "execution_count": 142,
   "metadata": {},
   "outputs": [
    {
     "data": {
      "text/plain": [
       "0            0\n",
       "1            2\n",
       "2            5\n",
       "3           43\n",
       "4           46\n",
       "          ... \n",
       "100831    9416\n",
       "100832    9443\n",
       "100833    9444\n",
       "100834    9445\n",
       "100835    9485\n",
       "Length: 100836, dtype: int16"
      ]
     },
     "execution_count": 142,
     "metadata": {},
     "output_type": "execute_result"
    }
   ],
   "source": [
    "ratings_df[\"movieId\"].cat.codes"
   ]
  },
  {
   "cell_type": "code",
   "execution_count": 145,
   "metadata": {},
   "outputs": [
    {
     "data": {
      "text/plain": [
       "Index([     1,      2,      3,      4,      5,      6,      7,      8,      9,\n",
       "           10,\n",
       "       ...\n",
       "       193565, 193567, 193571, 193573, 193579, 193581, 193583, 193585, 193587,\n",
       "       193609],\n",
       "      dtype='int64', length=9724)"
      ]
     },
     "execution_count": 145,
     "metadata": {},
     "output_type": "execute_result"
    }
   ],
   "source": [
    "ratings_df[\"movieId\"].cat.categories"
   ]
  },
  {
   "cell_type": "code",
   "execution_count": 180,
   "metadata": {},
   "outputs": [],
   "source": [
    "ratings_df = pd.read_csv(data_fname)\n",
    "ratings_df[\"userId\"] = ratings_df[\"userId\"].astype(\"category\")\n",
    "ratings_df[\"movieId\"] = ratings_df[\"movieId\"].astype(\"category\")\n",
    "movies_df = pd.read_csv(item_fname)\n",
    "\n",
    "items = dict(enumerate(ratings_df[\"movieId\"].cat.categories)) # {model item id : data item id} "
   ]
  },
  {
   "cell_type": "code",
   "execution_count": 151,
   "metadata": {},
   "outputs": [
    {
     "data": {
      "text/plain": [
       "673"
      ]
     },
     "execution_count": 151,
     "metadata": {},
     "output_type": "execute_result"
    }
   ],
   "source": [
    "ratings_df[\"movieId\"].cat.categories.get_loc(888)"
   ]
  },
  {
   "cell_type": "code",
   "execution_count": 201,
   "metadata": {},
   "outputs": [],
   "source": [
    "parsed_id = ratings_df[\"movieId\"].cat.categories.get_loc(int(1))\n",
    "result = calculate_item_based(parsed_id, items)"
   ]
  },
  {
   "cell_type": "code",
   "execution_count": 202,
   "metadata": {},
   "outputs": [
    {
     "data": {
      "text/plain": [
       "['1', '137', '305', '107', '42', '516', '567', '271', '27', '626', '241']"
      ]
     },
     "execution_count": 202,
     "metadata": {},
     "output_type": "execute_result"
    }
   ],
   "source": [
    "result"
   ]
  },
  {
   "cell_type": "code",
   "execution_count": 203,
   "metadata": {},
   "outputs": [],
   "source": [
    "result = [int(x) for x in result]"
   ]
  },
  {
   "cell_type": "markdown",
   "metadata": {},
   "source": []
  },
  {
   "cell_type": "code",
   "execution_count": 204,
   "metadata": {},
   "outputs": [],
   "source": [
    "result_items = movies_df[movies_df[\"movieId\"].isin(result)].to_dict(\"records\")"
   ]
  },
  {
   "cell_type": "code",
   "execution_count": 205,
   "metadata": {},
   "outputs": [
    {
     "data": {
      "text/plain": [
       "[{'movieId': 1,\n",
       "  'title': 'Toy Story (1995)',\n",
       "  'genres': 'Adventure|Animation|Children|Comedy|Fantasy',\n",
       "  'imdbId': 114709,\n",
       "  'tmdbId': 862.0,\n",
       "  'url': 'http://www.imdb.com/title/tt0114709/',\n",
       "  'rating_count': 215,\n",
       "  'rating_avg': 3.92093023255814,\n",
       "  'poster_path': 'https://image.tmdb.org/t/p/original/uXDfjJbdP4ijW5hWSBrPrlKpxab.jpg'},\n",
       " {'movieId': 27,\n",
       "  'title': 'Now and Then (1995)',\n",
       "  'genres': 'Children|Drama',\n",
       "  'imdbId': 114011,\n",
       "  'tmdbId': 9263.0,\n",
       "  'url': 'http://www.imdb.com/title/tt0114011/',\n",
       "  'rating_count': 9,\n",
       "  'rating_avg': 3.333333333333333,\n",
       "  'poster_path': 'https://image.tmdb.org/t/p/original/q31Ks8oAmM4Nq2CcGjyYYpdBAmh.jpg'},\n",
       " {'movieId': 42,\n",
       "  'title': 'Dead Presidents (1995)',\n",
       "  'genres': 'Action|Crime|Drama',\n",
       "  'imdbId': 112819,\n",
       "  'tmdbId': 11443.0,\n",
       "  'url': 'http://www.imdb.com/title/tt0112819/',\n",
       "  'rating_count': 7,\n",
       "  'rating_avg': 3.0,\n",
       "  'poster_path': 'https://image.tmdb.org/t/p/original/wRLepMZoUCwjLFb1WSbuUT6uVWR.jpg'},\n",
       " {'movieId': 107,\n",
       "  'title': 'Muppet Treasure Island (1996)',\n",
       "  'genres': 'Adventure|Children|Comedy|Musical',\n",
       "  'imdbId': 117110,\n",
       "  'tmdbId': 10874.0,\n",
       "  'url': 'http://www.imdb.com/title/tt0117110/',\n",
       "  'rating_count': 26,\n",
       "  'rating_avg': 3.326923076923077,\n",
       "  'poster_path': 'https://image.tmdb.org/t/p/original/k4KW2CUkzDKaCy4H4cS02cO8gvV.jpg'},\n",
       " {'movieId': 137,\n",
       "  'title': 'Man of the Year (1995)',\n",
       "  'genres': 'Documentary',\n",
       "  'imdbId': 113756,\n",
       "  'tmdbId': 5757.0,\n",
       "  'url': 'http://www.imdb.com/title/tt0113756/',\n",
       "  'rating_count': 1,\n",
       "  'rating_avg': 3.0,\n",
       "  'poster_path': 'https://image.tmdb.org/t/p/original/jVO3Gvsdqe5C9Jr7cE1fSOtW2Op.jpg'},\n",
       " {'movieId': 241,\n",
       "  'title': 'Fluke (1995)',\n",
       "  'genres': 'Children|Drama',\n",
       "  'imdbId': 113089,\n",
       "  'tmdbId': 21183.0,\n",
       "  'url': 'http://www.imdb.com/title/tt0113089/',\n",
       "  'rating_count': 1,\n",
       "  'rating_avg': 4.0,\n",
       "  'poster_path': 'https://image.tmdb.org/t/p/original/k7BHqoTWJPpoSpfCzzUjAduuIbX.jpg'},\n",
       " {'movieId': 271,\n",
       "  'title': 'Losing Isaiah (1995)',\n",
       "  'genres': 'Drama',\n",
       "  'imdbId': 113691,\n",
       "  'tmdbId': 28313.0,\n",
       "  'url': 'http://www.imdb.com/title/tt0113691/',\n",
       "  'rating_count': 4,\n",
       "  'rating_avg': 3.5,\n",
       "  'poster_path': 'https://image.tmdb.org/t/p/original/oHALKuPewtqIn2BcluZsGvcEG1P.jpg'},\n",
       " {'movieId': 305,\n",
       "  'title': 'Ready to Wear (Pret-A-Porter) (1994)',\n",
       "  'genres': 'Comedy',\n",
       "  'imdbId': 110907,\n",
       "  'tmdbId': 3586.0,\n",
       "  'url': 'http://www.imdb.com/title/tt0110907/',\n",
       "  'rating_count': 9,\n",
       "  'rating_avg': 2.833333333333333,\n",
       "  'poster_path': 'https://image.tmdb.org/t/p/original/ehg1dTxsqx2eMZpd5Tio9JifwqB.jpg'},\n",
       " {'movieId': 516,\n",
       "  'title': 'Renaissance Man (1994)',\n",
       "  'genres': 'Comedy|Drama',\n",
       "  'imdbId': 110971,\n",
       "  'tmdbId': 11858.0,\n",
       "  'url': 'http://www.imdb.com/title/tt0110971/',\n",
       "  'rating_count': 18,\n",
       "  'rating_avg': 3.055555555555556,\n",
       "  'poster_path': 'https://image.tmdb.org/t/p/original/iPRtaSfN8gNWFclgrcg5oD3V41i.jpg'},\n",
       " {'movieId': 567,\n",
       "  'title': 'Kika (1993)',\n",
       "  'genres': 'Comedy|Drama',\n",
       "  'imdbId': 107315,\n",
       "  'tmdbId': 8223.0,\n",
       "  'url': 'http://www.imdb.com/title/tt0107315/',\n",
       "  'rating_count': 3,\n",
       "  'rating_avg': 2.0,\n",
       "  'poster_path': 'https://image.tmdb.org/t/p/original/jUEBKaMqcvrz0HHF8Cei8asjRWr.jpg'},\n",
       " {'movieId': 626,\n",
       "  'title': 'Thin Line Between Love and Hate, A (1996)',\n",
       "  'genres': 'Comedy',\n",
       "  'imdbId': 117891,\n",
       "  'tmdbId': 28121.0,\n",
       "  'url': 'http://www.imdb.com/title/tt0117891/',\n",
       "  'rating_count': 1,\n",
       "  'rating_avg': 5.0,\n",
       "  'poster_path': 'https://image.tmdb.org/t/p/original/wo9AGi5LlFXZUj8MDPq3eKCUMpd.jpg'}]"
      ]
     },
     "execution_count": 205,
     "metadata": {},
     "output_type": "execute_result"
    }
   ],
   "source": [
    "result_items"
   ]
  },
  {
   "cell_type": "code",
   "execution_count": 104,
   "metadata": {},
   "outputs": [
    {
     "data": {
      "text/plain": [
       "0              1\n",
       "1              3\n",
       "2              6\n",
       "3             47\n",
       "4             50\n",
       "           ...  \n",
       "100831    166534\n",
       "100832    168248\n",
       "100833    168250\n",
       "100834    168252\n",
       "100835    170875\n",
       "Name: movieId, Length: 100836, dtype: category\n",
       "Categories (9724, int64): [1, 2, 3, 4, ..., 193583, 193585, 193587, 193609]"
      ]
     },
     "execution_count": 104,
     "metadata": {},
     "output_type": "execute_result"
    }
   ],
   "source": [
    "ratings_df[\"movieId\"]"
   ]
  },
  {
   "cell_type": "code",
   "execution_count": 152,
   "metadata": {},
   "outputs": [
    {
     "data": {
      "text/plain": [
       "0          True\n",
       "1         False\n",
       "2         False\n",
       "3         False\n",
       "4         False\n",
       "          ...  \n",
       "100831    False\n",
       "100832    False\n",
       "100833    False\n",
       "100834    False\n",
       "100835    False\n",
       "Name: movieId, Length: 100836, dtype: bool"
      ]
     },
     "execution_count": 152,
     "metadata": {},
     "output_type": "execute_result"
    }
   ],
   "source": [
    "ratings_df[\"movieId\"].isin([1,2])"
   ]
  },
  {
   "cell_type": "code",
   "execution_count": null,
   "metadata": {},
   "outputs": [],
   "source": [
    "\"Speed (1994)\""
   ]
  },
  {
   "cell_type": "code",
   "execution_count": 112,
   "metadata": {},
   "outputs": [
    {
     "data": {
      "text/plain": [
       "9724"
      ]
     },
     "execution_count": 112,
     "metadata": {},
     "output_type": "execute_result"
    }
   ],
   "source": [
    "len(dict(enumerate(ratings_df[\"movieId\"].cat.categories)))"
   ]
  },
  {
   "cell_type": "code",
   "execution_count": 114,
   "metadata": {},
   "outputs": [
    {
     "data": {
      "text/plain": [
       "193609"
      ]
     },
     "execution_count": 114,
     "metadata": {},
     "output_type": "execute_result"
    }
   ],
   "source": [
    "dict(enumerate(ratings_df[\"movieId\"].cat.categories))[9723]"
   ]
  },
  {
   "cell_type": "code",
   "execution_count": 84,
   "metadata": {},
   "outputs": [],
   "source": [
    "parsed_id = ratings_df[\"movieId\"].cat.categories.get_loc(int(1))\n",
    "result = calculate_item_based(parsed_id, items)\n"
   ]
  },
  {
   "cell_type": "code",
   "execution_count": 87,
   "metadata": {},
   "outputs": [
    {
     "data": {
      "text/html": [
       "<div>\n",
       "<style scoped>\n",
       "    .dataframe tbody tr th:only-of-type {\n",
       "        vertical-align: middle;\n",
       "    }\n",
       "\n",
       "    .dataframe tbody tr th {\n",
       "        vertical-align: top;\n",
       "    }\n",
       "\n",
       "    .dataframe thead th {\n",
       "        text-align: right;\n",
       "    }\n",
       "</style>\n",
       "<table border=\"1\" class=\"dataframe\">\n",
       "  <thead>\n",
       "    <tr style=\"text-align: right;\">\n",
       "      <th></th>\n",
       "      <th>userId</th>\n",
       "      <th>movieId</th>\n",
       "      <th>rating</th>\n",
       "      <th>timestamp</th>\n",
       "    </tr>\n",
       "  </thead>\n",
       "  <tbody>\n",
       "    <tr>\n",
       "      <th>0</th>\n",
       "      <td>1</td>\n",
       "      <td>1</td>\n",
       "      <td>4.0</td>\n",
       "      <td>964982703</td>\n",
       "    </tr>\n",
       "    <tr>\n",
       "      <th>1</th>\n",
       "      <td>1</td>\n",
       "      <td>3</td>\n",
       "      <td>4.0</td>\n",
       "      <td>964981247</td>\n",
       "    </tr>\n",
       "    <tr>\n",
       "      <th>2</th>\n",
       "      <td>1</td>\n",
       "      <td>6</td>\n",
       "      <td>4.0</td>\n",
       "      <td>964982224</td>\n",
       "    </tr>\n",
       "    <tr>\n",
       "      <th>3</th>\n",
       "      <td>1</td>\n",
       "      <td>47</td>\n",
       "      <td>5.0</td>\n",
       "      <td>964983815</td>\n",
       "    </tr>\n",
       "    <tr>\n",
       "      <th>4</th>\n",
       "      <td>1</td>\n",
       "      <td>50</td>\n",
       "      <td>5.0</td>\n",
       "      <td>964982931</td>\n",
       "    </tr>\n",
       "    <tr>\n",
       "      <th>...</th>\n",
       "      <td>...</td>\n",
       "      <td>...</td>\n",
       "      <td>...</td>\n",
       "      <td>...</td>\n",
       "    </tr>\n",
       "    <tr>\n",
       "      <th>100831</th>\n",
       "      <td>610</td>\n",
       "      <td>166534</td>\n",
       "      <td>4.0</td>\n",
       "      <td>1493848402</td>\n",
       "    </tr>\n",
       "    <tr>\n",
       "      <th>100832</th>\n",
       "      <td>610</td>\n",
       "      <td>168248</td>\n",
       "      <td>5.0</td>\n",
       "      <td>1493850091</td>\n",
       "    </tr>\n",
       "    <tr>\n",
       "      <th>100833</th>\n",
       "      <td>610</td>\n",
       "      <td>168250</td>\n",
       "      <td>5.0</td>\n",
       "      <td>1494273047</td>\n",
       "    </tr>\n",
       "    <tr>\n",
       "      <th>100834</th>\n",
       "      <td>610</td>\n",
       "      <td>168252</td>\n",
       "      <td>5.0</td>\n",
       "      <td>1493846352</td>\n",
       "    </tr>\n",
       "    <tr>\n",
       "      <th>100835</th>\n",
       "      <td>610</td>\n",
       "      <td>170875</td>\n",
       "      <td>3.0</td>\n",
       "      <td>1493846415</td>\n",
       "    </tr>\n",
       "  </tbody>\n",
       "</table>\n",
       "<p>100836 rows × 4 columns</p>\n",
       "</div>"
      ],
      "text/plain": [
       "       userId movieId  rating   timestamp\n",
       "0           1       1     4.0   964982703\n",
       "1           1       3     4.0   964981247\n",
       "2           1       6     4.0   964982224\n",
       "3           1      47     5.0   964983815\n",
       "4           1      50     5.0   964982931\n",
       "...       ...     ...     ...         ...\n",
       "100831    610  166534     4.0  1493848402\n",
       "100832    610  168248     5.0  1493850091\n",
       "100833    610  168250     5.0  1494273047\n",
       "100834    610  168252     5.0  1493846352\n",
       "100835    610  170875     3.0  1493846415\n",
       "\n",
       "[100836 rows x 4 columns]"
      ]
     },
     "execution_count": 87,
     "metadata": {},
     "output_type": "execute_result"
    }
   ],
   "source": [
    "ratings_df"
   ]
  },
  {
   "cell_type": "code",
   "execution_count": 85,
   "metadata": {},
   "outputs": [
    {
     "data": {
      "text/plain": [
       "0"
      ]
     },
     "execution_count": 85,
     "metadata": {},
     "output_type": "execute_result"
    }
   ],
   "source": [
    "parsed_id"
   ]
  },
  {
   "cell_type": "code",
   "execution_count": 9,
   "metadata": {},
   "outputs": [],
   "source": [
    "ratings_df = pd.read_csv(data_fname)\n",
    "ratings_df[\"userId\"] = ratings_df[\"userId\"].astype(\"category\")\n",
    "ratings_df[\"movieId\"] = ratings_df[\"movieId\"].astype(\"category\")\n",
    "movies_df = pd.read_csv(item_fname)\n",
    "\n",
    "items_dict = dict(enumerate(ratings_df[\"movieId\"].cat.categories)) # {model item id : data item id} "
   ]
  },
  {
   "cell_type": "code",
   "execution_count": 12,
   "metadata": {},
   "outputs": [
    {
     "data": {
      "text/plain": [
       "False"
      ]
     },
     "execution_count": 12,
     "metadata": {},
     "output_type": "execute_result"
    }
   ],
   "source": [
    "'h' in {'a':'h'}"
   ]
  },
  {
   "cell_type": "code",
   "execution_count": 44,
   "metadata": {},
   "outputs": [],
   "source": [
    "input_rating_dict = {1 : 3, 3 : 5}"
   ]
  },
  {
   "cell_type": "code",
   "execution_count": 45,
   "metadata": {},
   "outputs": [],
   "source": [
    "# input(dict)이 들어올거고\n",
    "item_ids = {r: i for i, r in items_dict.items()} # (after) {data item id : model item id}\n",
    "\n",
    "mapped_idx = [item_ids[movie_id] for movie_id in input_rating_dict.keys() if movie_id in item_ids] # for model\n",
    "data = [weight * float(x) for x in input_rating_dict.values()]"
   ]
  },
  {
   "cell_type": "code",
   "execution_count": 46,
   "metadata": {},
   "outputs": [],
   "source": [
    "rows = [0 for _ in mapped_idx]"
   ]
  },
  {
   "cell_type": "code",
   "execution_count": 22,
   "metadata": {},
   "outputs": [
    {
     "data": {
      "text/plain": [
       "[0, 0]"
      ]
     },
     "execution_count": 22,
     "metadata": {},
     "output_type": "execute_result"
    }
   ],
   "source": [
    "rows"
   ]
  },
  {
   "cell_type": "code",
   "execution_count": 23,
   "metadata": {},
   "outputs": [],
   "source": [
    "model = pickle.load(open(saved_model_fname, \"rb\"))"
   ]
  },
  {
   "cell_type": "code",
   "execution_count": 25,
   "metadata": {},
   "outputs": [],
   "source": [
    "shape = (1, model.item_factors.shape[0])"
   ]
  },
  {
   "cell_type": "code",
   "execution_count": 26,
   "metadata": {},
   "outputs": [
    {
     "data": {
      "text/plain": [
       "(1, 9724)"
      ]
     },
     "execution_count": 26,
     "metadata": {},
     "output_type": "execute_result"
    }
   ],
   "source": [
    "shape"
   ]
  },
  {
   "cell_type": "code",
   "execution_count": 41,
   "metadata": {},
   "outputs": [
    {
     "data": {
      "text/plain": [
       "[0, 0]"
      ]
     },
     "execution_count": 41,
     "metadata": {},
     "output_type": "execute_result"
    }
   ],
   "source": [
    "rows"
   ]
  },
  {
   "cell_type": "code",
   "execution_count": 51,
   "metadata": {},
   "outputs": [
    {
     "data": {
      "text/plain": [
       "<1x9724 sparse matrix of type '<class 'numpy.float64'>'\n",
       "\twith 2 stored elements in COOrdinate format>"
      ]
     },
     "execution_count": 51,
     "metadata": {},
     "output_type": "execute_result"
    }
   ],
   "source": [
    "coo_matrix((data, (rows, mapped_idx)), shape=shape) # (1,#)"
   ]
  },
  {
   "cell_type": "code",
   "execution_count": 49,
   "metadata": {},
   "outputs": [
    {
     "data": {
      "text/plain": [
       "[30.0, 50.0]"
      ]
     },
     "execution_count": 49,
     "metadata": {},
     "output_type": "execute_result"
    }
   ],
   "source": [
    "data"
   ]
  },
  {
   "cell_type": "code",
   "execution_count": 50,
   "metadata": {},
   "outputs": [
    {
     "data": {
      "text/plain": [
       "(1, 3)"
      ]
     },
     "execution_count": 50,
     "metadata": {},
     "output_type": "execute_result"
    }
   ],
   "source": [
    "import numpy as np\n",
    "a.toarray().shape"
   ]
  },
  {
   "cell_type": "code",
   "execution_count": 13,
   "metadata": {},
   "outputs": [],
   "source": [
    "params = ['3:3','5:4']"
   ]
  },
  {
   "cell_type": "code",
   "execution_count": 16,
   "metadata": {},
   "outputs": [
    {
     "data": {
      "text/plain": [
       "{3: 3.0, 5: 4.0}"
      ]
     },
     "execution_count": 16,
     "metadata": {},
     "output_type": "execute_result"
    }
   ],
   "source": [
    "{int(x.split(\":\")[0]) : float(x.split(\":\")[1]) for x in params}"
   ]
  },
  {
   "cell_type": "code",
   "execution_count": 14,
   "metadata": {},
   "outputs": [
    {
     "data": {
      "text/plain": [
       "{3: 3.0, 5: 4.0}"
      ]
     },
     "execution_count": 14,
     "metadata": {},
     "output_type": "execute_result"
    }
   ],
   "source": [
    "dict(\n",
    "        (int(x.split(\":\")[0]), float(x.split(\":\")[1])) for x in params)"
   ]
  }
 ],
 "metadata": {
  "kernelspec": {
   "display_name": "project_env",
   "language": "python",
   "name": "python3"
  },
  "language_info": {
   "codemirror_mode": {
    "name": "ipython",
    "version": 3
   },
   "file_extension": ".py",
   "mimetype": "text/x-python",
   "name": "python",
   "nbconvert_exporter": "python",
   "pygments_lexer": "ipython3",
   "version": "3.10.6"
  },
  "orig_nbformat": 4
 },
 "nbformat": 4,
 "nbformat_minor": 2
}
